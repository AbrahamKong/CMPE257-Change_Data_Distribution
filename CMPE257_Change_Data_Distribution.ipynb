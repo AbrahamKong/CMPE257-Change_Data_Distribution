{
  "nbformat": 4,
  "nbformat_minor": 0,
  "metadata": {
    "colab": {
      "name": "CMPE257-Change_Data_Distribution.ipynb",
      "provenance": [],
      "collapsed_sections": [],
      "authorship_tag": "ABX9TyOnYVq4DatXmlcgdw9jNmHu",
      "include_colab_link": true
    },
    "kernelspec": {
      "name": "python3",
      "display_name": "Python 3"
    },
    "language_info": {
      "name": "python"
    }
  },
  "cells": [
    {
      "cell_type": "markdown",
      "metadata": {
        "id": "view-in-github",
        "colab_type": "text"
      },
      "source": [
        "<a href=\"https://colab.research.google.com/github/AbrahamKong/CMPE257-Change_Data_Distribution/blob/main/CMPE257_Change_Data_Distribution.ipynb\" target=\"_parent\"><img src=\"https://colab.research.google.com/assets/colab-badge.svg\" alt=\"Open In Colab\"/></a>"
      ]
    },
    {
      "cell_type": "markdown",
      "source": [
        "# Project Statement\n",
        "\n",
        "Author: Abraham Kong\n",
        "\n",
        "Team: Data Miners\n",
        "\n",
        "Objective: \n",
        "Using Classfication methods to find out if product Category is one parameter effecting the churn rate of customers"
      ],
      "metadata": {
        "id": "NcrJqEOqawUt"
      }
    },
    {
      "cell_type": "markdown",
      "source": [
        "### Data Set\n",
        "\n",
        "[Brazilian E-Commerce Public Dataset by Olist](https://www.kaggle.com/olistbr/brazilian-ecommerce)\n"
      ],
      "metadata": {
        "id": "-pe3Pu_y6SxU"
      }
    }
  ]
}